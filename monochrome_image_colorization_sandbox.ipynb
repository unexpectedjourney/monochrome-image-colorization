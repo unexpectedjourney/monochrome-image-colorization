{
  "nbformat": 4,
  "nbformat_minor": 0,
  "metadata": {
    "colab": {
      "name": "monochrome-image-colorization-sandbox.ipynb",
      "provenance": [],
      "collapsed_sections": []
    },
    "kernelspec": {
      "name": "python3",
      "display_name": "Python 3"
    },
    "accelerator": "GPU"
  },
  "cells": [
    {
      "cell_type": "code",
      "metadata": {
        "id": "8M7Gho4GIk0b",
        "colab_type": "code",
        "colab": {}
      },
      "source": [
        "import os\n",
        "\n",
        "import torch\n",
        "import torch.nn as nn\n",
        "import torch.nn.functional as F\n",
        "\n",
        "from torch.utils.data import Dataset"
      ],
      "execution_count": 0,
      "outputs": []
    },
    {
      "cell_type": "code",
      "metadata": {
        "id": "TXJ8rF3uJU38",
        "colab_type": "code",
        "colab": {}
      },
      "source": [
        "class Down(nn.Module):\n",
        "    def __init__(self, in_channels, out_channels, kernel_size=4, stride=2, padding=1, dropout=0):\n",
        "        super(Down, self).__init__()\n",
        "        self.conv = nn.Conv2d(\n",
        "            in_channels, out_channels, kernel_size=kernel_size, stride=stride, \n",
        "            padding=padding)\n",
        "        self.norm = nn.BatchNorm2d(out_channels)\n",
        "        self.activation = nn.LeakyReLU(0.2)\n",
        "        self.dropout = dropout\n",
        "    \n",
        "    def forward(self, x):\n",
        "        x = self.conv(x)\n",
        "        x = self.norm(x)\n",
        "        x = self.activation(x)\n",
        "        if self.dropout:\n",
        "            x = nn.Dropout(self.dropout)\n",
        "        return x"
      ],
      "execution_count": 0,
      "outputs": []
    },
    {
      "cell_type": "code",
      "metadata": {
        "id": "kNSibnIiPQwc",
        "colab_type": "code",
        "colab": {}
      },
      "source": [
        "class Up(nn.Module):\n",
        "    def __init__(self, in_channels, out_channels, kernel_size=4, stride=2, padding=1, dropout=0):\n",
        "        super(Up, self).__init__()\n",
        "        self.conv = nn.ConvTranspose2d(\n",
        "            in_channels, out_channels, kernel_size=kernel_size, stride=stride, \n",
        "            padding=padding)\n",
        "        self.norm = nn.BatchNorm2d(out_channels)\n",
        "        self.activation = nn.Relu()\n",
        "        self.dropout = dropout\n",
        "    \n",
        "    def forward(self, x1, x2):\n",
        "        x1 = self.conv(x1)\n",
        "        x1 = self.norm(x1)\n",
        "        x1 = self.activation(x1)\n",
        "        if self.dropout:\n",
        "            x1 = nn.Dropout(self.dropout)\n",
        "\n",
        "        x1 = torch.cat([x1, x2], 1)\n",
        "        return x1"
      ],
      "execution_count": 0,
      "outputs": []
    },
    {
      "cell_type": "code",
      "metadata": {
        "id": "hoft-1ZUcUJE",
        "colab_type": "code",
        "colab": {}
      },
      "source": [
        "class Final(nn.Module):\n",
        "    def __init__(self, in_channels, out_channels, kernel_size=1, stride=1, padding=0, dropout=0, activation_fn=nn.Tanh):\n",
        "        super(Final, self).__init__()\n",
        "        self.conv = nn.Conv2d(\n",
        "            in_channels, out_channels, kernel_size=kernel_size, stride=stride, \n",
        "            padding=padding)\n",
        "        self.norm = nn.BatchNorm2d(out_channels)\n",
        "        self.activation = activation_fn()\n",
        "        self.dropout = dropout\n",
        "    \n",
        "    def forward(self, x):\n",
        "        x = self.conv(x)\n",
        "        x = self.norm(x)\n",
        "        x = self.activation(x)\n",
        "        if self.dropout:\n",
        "            x = nn.Dropout(self.dropout)\n",
        "        return x"
      ],
      "execution_count": 0,
      "outputs": []
    },
    {
      "cell_type": "code",
      "metadata": {
        "id": "aeK0Y1aII1AI",
        "colab_type": "code",
        "colab": {}
      },
      "source": [
        "class Generator(nn.Module):\n",
        "    def __init__(self):\n",
        "        super(Generator, self).__init__()\n",
        "\n",
        "        self.down1 = Down(1, 64, kernel_size=4, stride=1, padding=0, dropout=0)\n",
        "        self.down2 = Down(64, 128, kernel_size=4, stride=2, padding=1, dropout=0)\n",
        "        self.down3 = Down(128, 256, kernel_size=4, stride=2, padding=1, dropout=0)\n",
        "        self.down4 = Down(256, 512, kernel_size=4, stride=2, padding=1, dropout=0)\n",
        "        self.down5 = Down(512, 512, kernel_size=4, stride=2, padding=1, dropout=0)\n",
        "\n",
        "        self.up1 = Up(512, 512, kernel_size=4, stride=2, padding=1, dropout=0.5)\n",
        "        self.up2 = Up(1024, 256, kernel_size=4, stride=2, padding=1, dropout=0.5)\n",
        "        self.up3 = Up(512, 128, kernel_size=4, stride=2, padding=1, dropout=0)\n",
        "        self.up4 = Up(256, 64, kernel_size=4, stride=2, padding=1, dropout=0)\n",
        "\n",
        "        self.final = Final(128, 2)\n",
        "        \n",
        "\n",
        "    def forward(self, x):\n",
        "        x = F.interpolate(x, size=(35, 35), mode='bilinear', align_corners=True)\n",
        "        d1 = self.down1(x)\n",
        "        d2 = self.down2(d1)\n",
        "        d3 = self.down3(d2)\n",
        "        d4 = self.down4(d3)\n",
        "        d5 = self.down5(d4)\n",
        "\n",
        "        u1 = self.up1(d5, d4)\n",
        "        u2 = self.up2(u1, d3)\n",
        "        u3 = self.up3(u2, d2)\n",
        "        u4 = self.up4(u3, d1)\n",
        "\n",
        "        x = self.final(u4)\n",
        "        return x"
      ],
      "execution_count": 0,
      "outputs": []
    },
    {
      "cell_type": "code",
      "metadata": {
        "id": "7FPAJTJIdeCG",
        "colab_type": "code",
        "colab": {}
      },
      "source": [
        "class Discriminator(nn.Module):\n",
        "    def __init__():\n",
        "        super(Discriminator, self).__init__()\n",
        "        self.down1 = Down(3, 64, kernel_size=4, stride=1, padding=0, dropout=0)\n",
        "        self.down2 = Down(64, 128, kernel_size=4, stride=2, padding=1, dropout=0)\n",
        "        self.down3 = Down(128, 256, kernel_size=4, stride=2, padding=1, dropout=0)\n",
        "        self.down4 = Down(256, 512, kernel_size=4, stride=2, padding=1, dropout=0)\n",
        "        self.final = Final(\n",
        "            512, 1, kernel_size=4, stride=1, padding=0, dropout=0, \n",
        "            activation_fn=nn.Sigmoid()\n",
        "        )\n",
        "    \n",
        "    def forward(self, x):\n",
        "        x = F.interpolate(x, size=(35, 35), mode='bilinear', align_corners=True)\n",
        "        d1 = self.down1(x)\n",
        "        d2 = self.down2(d1)\n",
        "        d3 = self.down3(d2)\n",
        "        d4 = self.down4(d3)\n",
        "\n",
        "        x = self.final(d4)\n",
        "        x = x.view(x.size()[0], -1)\n",
        "        return x"
      ],
      "execution_count": 0,
      "outputs": []
    },
    {
      "cell_type": "code",
      "metadata": {
        "id": "cKdDe_SruGRJ",
        "colab_type": "code",
        "colab": {}
      },
      "source": [
        "# Helpers\n",
        "def preprocess(img_bgr):\n",
        "    # to 32bit img\n",
        "    img_bgr = img_bgr.astype(np.float32) / 255.0\n",
        "    # transform to lab\n",
        "    img_lab = cv2.cvtColor(img_bgr, cv2.COLOR_BGR2LAB)\n",
        "    # normalize\n",
        "    img_lab[:, :, 0] = img_lab[:, :, 0] / 50 - 1\n",
        "    img_lab[:, :, 1] = img_lab[:, :, 1] / 127\n",
        "    img_lab[:, :, 2] = img_lab[:, :, 2] / 127\n",
        "    # transpose\n",
        "    img_lab = img_lab.transpose((2, 0, 1))\n",
        "    return img_lab"
      ],
      "execution_count": 0,
      "outputs": []
    },
    {
      "cell_type": "code",
      "metadata": {
        "id": "0DDu92lxr5jQ",
        "colab_type": "code",
        "colab": {}
      },
      "source": [
        "class Cifar10Dataset(Dataset):\n",
        "    def __init__(self, root_path):\n",
        "        self.img_pathes = [os.path.join(root_path, file) for file in os.listdir(root_path)]\n",
        "    \n",
        "    def __len__(self):\n",
        "        return len(self.img_pathes)\n",
        "    \n",
        "    def __getitem__(self, index):\n",
        "        img_path = self.img_paths[index]\n",
        "        img_bgr = cv2.imread(img_path)\n",
        "\n",
        "        img_lab = preprocess(img_bgr)\n",
        "        return img_lab\n",
        "    "
      ],
      "execution_count": 0,
      "outputs": []
    }
  ]
}